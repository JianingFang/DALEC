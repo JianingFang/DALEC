{
 "cells": [
  {
   "cell_type": "markdown",
   "metadata": {},
   "source": [
    "## ClimaLSM Compatible DALEC Model\n",
    "\n",
    "**By Jianing Fang (jf3423@columbia.edu), last revision August 2022**"
   ]
  },
  {
   "cell_type": "code",
   "execution_count": 2,
   "metadata": {},
   "outputs": [
    {
     "ename": "SyntaxError",
     "evalue": "invalid syntax (596941646.py, line 1)",
     "output_type": "error",
     "traceback": [
      "\u001b[0;36m  File \u001b[0;32m\"/var/folders/w3/__yy4yss44vflbczxrp3b2ww0000gn/T/ipykernel_1834/596941646.py\"\u001b[0;36m, line \u001b[0;32m1\u001b[0m\n\u001b[0;31m    using OrdinaryDiffEq: solve, DiscreteProblem, FunctionMap\u001b[0m\n\u001b[0m          ^\u001b[0m\n\u001b[0;31mSyntaxError\u001b[0m\u001b[0;31m:\u001b[0m invalid syntax\n"
     ]
    }
   ],
   "source": [
    "using OrdinaryDiffEq: solve, DiscreteProblem, FunctionMap\n",
    "using DataFrames\n",
    "using DALEC\n",
    "using Plots\n",
    "Plots.pyplot()"
   ]
  },
  {
   "cell_type": "code",
   "execution_count": null,
   "metadata": {},
   "outputs": [],
   "source": []
  }
 ],
 "metadata": {
  "kernelspec": {
   "display_name": "Julia 1.7.3",
   "language": "julia",
   "name": "julia-1.7"
  },
  "language_info": {
   "codemirror_mode": {
    "name": "ipython",
    "version": 3
   },
   "file_extension": ".py",
   "mimetype": "text/x-python",
   "name": "python",
   "nbconvert_exporter": "python",
   "pygments_lexer": "ipython3",
   "version": "3.8.12"
  }
 },
 "nbformat": 4,
 "nbformat_minor": 2
}
