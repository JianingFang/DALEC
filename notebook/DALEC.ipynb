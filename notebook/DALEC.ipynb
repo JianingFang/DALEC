{
 "cells": [
  {
   "cell_type": "markdown",
   "metadata": {},
   "source": [
    "## ClimaLSM Compatible DALEC Model\n",
    "\n",
    "**By Jianing Fang (jf3423@columbia.edu), last revision August 2022**"
   ]
  },
  {
   "cell_type": "code",
   "execution_count": 3,
   "metadata": {},
   "outputs": [],
   "source": [
    "using OrdinaryDiffEq: solve, DiscreteProblem, FunctionMap\n",
    "using DALEC\n",
    "using Plots\n",
    "Plots.pyplot();"
   ]
  },
  {
   "cell_type": "code",
   "execution_count": 5,
   "metadata": {},
   "outputs": [],
   "source": [
    "DRIVER_PATH = \"../data/AU-How_example_driver.nc.cbf\";\n",
    "PARAM_PATH = \"../data/AU-How_example_param.csv\";\n",
    "FT = Float64;"
   ]
  },
  {
   "cell_type": "code",
   "execution_count": 6,
   "metadata": {},
   "outputs": [
    {
     "ename": "LoadError",
     "evalue": "UndefVarError: CSV not defined",
     "output_type": "error",
     "traceback": [
      "UndefVarError: CSV not defined",
      "",
      "Stacktrace:",
      " [1] load_dalec_811(CBF_PATH::String, PARAM_PATH::String, #unused#::Type{Float64})",
      "   @ DALEC ~/.julia/dev/DALEC/src/util/dalec_io.jl:30",
      " [2] top-level scope",
      "   @ In[6]:1",
      " [3] eval",
      "   @ ./boot.jl:373 [inlined]",
      " [4] include_string(mapexpr::typeof(REPL.softscope), mod::Module, code::String, filename::String)",
      "   @ Base ./loading.jl:1196"
     ]
    }
   ],
   "source": [
    "dalec = load_dalec_811(DRIVER_PATH, PARAM_PATH, FT);"
   ]
  },
  {
   "cell_type": "code",
   "execution_count": null,
   "metadata": {},
   "outputs": [],
   "source": [
    "ode_function! = make_ode_function(dalec);"
   ]
  }
 ],
 "metadata": {
  "kernelspec": {
   "display_name": "Julia 1.7.3",
   "language": "julia",
   "name": "julia-1.7"
  },
  "language_info": {
   "file_extension": ".jl",
   "mimetype": "application/julia",
   "name": "julia",
   "version": "1.7.3"
  }
 },
 "nbformat": 4,
 "nbformat_minor": 2
}
